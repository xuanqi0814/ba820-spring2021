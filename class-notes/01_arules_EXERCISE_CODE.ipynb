{
  "nbformat": 4,
  "nbformat_minor": 0,
  "metadata": {
    "colab": {
      "name": "01-arules-EXERCISE-CODE",
      "private_outputs": true,
      "provenance": [],
      "collapsed_sections": []
    },
    "kernelspec": {
      "name": "python3",
      "display_name": "Python 3"
    }
  },
  "cells": [
    {
      "cell_type": "code",
      "metadata": {
        "id": "b4Wo4sFbKVQM"
      },
      "source": [
        "# imports\n",
        "import pandas as pd\n",
        "from mlxtend.frequent_patterns import apriori, association_rules\n",
        "import numpy as np\n",
        "import seaborn as sns\n",
        "import matplotlib.pyplot as plt\n",
        "import plotly.express as px\n",
        "\n",
        "# my project in Google Cloud used\n",
        "PROJECT = \"questrom\"\n",
        "\n",
        "# some settings for pandas\n",
        "pd.options.display.max_rows=125\n",
        "pd.options.display.max_columns=100\n"
      ],
      "execution_count": null,
      "outputs": []
    },
    {
      "cell_type": "code",
      "metadata": {
        "id": "UKWvf_q-U9oP"
      },
      "source": [
        "# auth against your BU GCP account \n",
        "from google.colab import auth\n",
        "auth.authenticate_user()\n",
        "print('Authenticated')"
      ],
      "execution_count": null,
      "outputs": []
    },
    {
      "cell_type": "code",
      "metadata": {
        "id": "HzhNYZVLVVdv"
      },
      "source": [
        "# get the data from Big Query\n",
        "# select all the records  \n",
        "SQL = \"\"\"\n",
        "SELECT *\n",
        "FROM `questrom.datasets.crm_campaign`\n",
        "\"\"\"\n",
        "\n",
        "crm = pd.io.gbq.read_gbq(SQL, PROJECT)"
      ],
      "execution_count": null,
      "outputs": []
    },
    {
      "cell_type": "code",
      "metadata": {
        "id": "27dkHPMSVVjj"
      },
      "source": [
        "# what do we have\n",
        "crm.shape"
      ],
      "execution_count": null,
      "outputs": []
    },
    {
      "cell_type": "code",
      "metadata": {
        "id": "9czBqSD-VVnS"
      },
      "source": [
        "crm.head()"
      ],
      "execution_count": null,
      "outputs": []
    },
    {
      "cell_type": "code",
      "metadata": {
        "id": "8ZKok8uZXpLB"
      },
      "source": [
        "#### Exercise 1"
      ],
      "execution_count": null,
      "outputs": []
    },
    {
      "cell_type": "code",
      "metadata": {
        "id": "iv_ZbX7DVVp3"
      },
      "source": [
        "# first, I am going to use granular codes, not the category\n",
        "# so drop contcat\n",
        "crm.drop(columns=\"contcat\", inplace=True)\n"
      ],
      "execution_count": null,
      "outputs": []
    },
    {
      "cell_type": "code",
      "metadata": {
        "id": "sedX5LDsXiIn"
      },
      "source": [
        "# second, drop dupes if any\n",
        "crm.drop_duplicates(inplace=True)"
      ],
      "execution_count": null,
      "outputs": []
    },
    {
      "cell_type": "code",
      "metadata": {
        "id": "KLs8WlAxXmra"
      },
      "source": [
        "# last confirm we have missing data\n",
        "crm.isna().sum()"
      ],
      "execution_count": null,
      "outputs": []
    },
    {
      "cell_type": "code",
      "metadata": {
        "id": "yMfPmGxgXxIk"
      },
      "source": [
        "# we will remove these records\n",
        "# even robust client data warehouses will have dirty data!\n",
        "crm.dropna(inplace=True)\n",
        "\n",
        "crm.isna().sum()"
      ],
      "execution_count": null,
      "outputs": []
    },
    {
      "cell_type": "code",
      "metadata": {
        "id": "J0J1NfGcYV9v"
      },
      "source": [
        "# ok, reshape\n",
        "crm['flag'] = True\n",
        "\n",
        "db = crm.pivot(index=\"crm_id\", columns=\"contcode\", values=\"flag\")\n",
        "db.fillna(False, inplace=True)\n",
        "\n",
        "db.shape"
      ],
      "execution_count": null,
      "outputs": []
    },
    {
      "cell_type": "code",
      "metadata": {
        "id": "JBS7lXZdaJIe"
      },
      "source": [
        "#### Exercise 2"
      ],
      "execution_count": null,
      "outputs": []
    },
    {
      "cell_type": "code",
      "metadata": {
        "id": "s8VgwC3mYq4A"
      },
      "source": [
        "# a quick glimpse\n",
        "db.head(3)"
      ],
      "execution_count": null,
      "outputs": []
    },
    {
      "cell_type": "code",
      "metadata": {
        "id": "FD5W6yECaERS"
      },
      "source": [
        "# lets review how many \"converted\" via the CMO marketing code\n",
        "converted = db.CMO.sum() \n",
        "print(converted)\n",
        "db.CMO.mean()"
      ],
      "execution_count": null,
      "outputs": []
    },
    {
      "cell_type": "code",
      "metadata": {
        "id": "yz7LFUxZadoY"
      },
      "source": [
        "#2 ten most frequent interactions\n",
        "interactions = db.sum(axis=0)\n",
        "interactions.sort_values(ascending=False)[:10]"
      ],
      "execution_count": null,
      "outputs": []
    },
    {
      "cell_type": "code",
      "metadata": {
        "id": "ZpKvVROYakFU"
      },
      "source": [
        "#3 avg number of transcations\n",
        "user_ints = db.sum(axis=1)\n",
        "user_ints.mean() "
      ],
      "execution_count": null,
      "outputs": []
    },
    {
      "cell_type": "code",
      "metadata": {
        "id": "VngFMddXbTxs"
      },
      "source": [
        "#4 item frequency\n",
        "interactions_f = interactions / len(db)\n",
        "\n",
        "interactions_f.sort_values(ascending=False, inplace=True)\n",
        "\n",
        "sns.lineplot(range(len(interactions_f)), interactions_f.values)"
      ],
      "execution_count": null,
      "outputs": []
    },
    {
      "cell_type": "code",
      "metadata": {
        "id": "anN8bMeLbfGH"
      },
      "source": [
        "#### Exercise 3"
      ],
      "execution_count": null,
      "outputs": []
    },
    {
      "cell_type": "code",
      "metadata": {
        "id": "zfIFK0otcA5O"
      },
      "source": [
        "itemsets = apriori(db, min_support=.0002, use_colnames=True)\n",
        "\n",
        "rules = association_rules(itemsets, metric=\"support\", min_threshold=.0002)"
      ],
      "execution_count": null,
      "outputs": []
    },
    {
      "cell_type": "code",
      "metadata": {
        "id": "lPLjAFeYcVar"
      },
      "source": [
        "#### Exercise 4"
      ],
      "execution_count": null,
      "outputs": []
    },
    {
      "cell_type": "code",
      "metadata": {
        "id": "4eWqtx98cZCB"
      },
      "source": [
        "# a quick review across the outputs\n",
        "rules.describe()"
      ],
      "execution_count": null,
      "outputs": []
    },
    {
      "cell_type": "code",
      "metadata": {
        "id": "iV0LhSh0dF5o"
      },
      "source": [
        "# sample 10 rules\n",
        "rules.sample(10).head()"
      ],
      "execution_count": null,
      "outputs": []
    },
    {
      "cell_type": "code",
      "metadata": {
        "id": "mu1gWrQLdcaI"
      },
      "source": [
        "# top 10 lift\n",
        "rules.sort_values(\"lift\", ascending=False).head(10)"
      ],
      "execution_count": null,
      "outputs": []
    },
    {
      "cell_type": "code",
      "metadata": {
        "id": "UALm3MJkewSZ"
      },
      "source": [
        "# top 10 on count\n",
        "# we can work backwards\n",
        "rules['count'] = rules.support * len(db)\n",
        "\n",
        "rules.sort_values('count', ascending=False).head(10)"
      ],
      "execution_count": null,
      "outputs": []
    },
    {
      "cell_type": "code",
      "metadata": {
        "id": "3w9fzPIvfGU8"
      },
      "source": [
        "# keep just those with 6 on the LHS\n",
        "# rules that always hold have infinite conviction \n",
        "# https://michael.hahsler.net/research/association_rules/measures.html#conviction\n",
        "rules['lhs_len'] = rules.antecedents.apply(lambda x: len(x))\n",
        "\n",
        "rules.loc[rules.lhs_len == 6, :].shape"
      ],
      "execution_count": null,
      "outputs": []
    },
    {
      "cell_type": "code",
      "metadata": {
        "id": "nV46Q73NfIAi"
      },
      "source": [
        "rules.loc[rules.lhs_len == 6, :].sample(5)"
      ],
      "execution_count": null,
      "outputs": []
    },
    {
      "cell_type": "code",
      "metadata": {
        "id": "RoU4BmxignvD"
      },
      "source": [
        "#### Exercise 5"
      ],
      "execution_count": null,
      "outputs": []
    },
    {
      "cell_type": "code",
      "metadata": {
        "id": "_NZde8TLhaLo"
      },
      "source": [
        "# make a copy\n",
        "strategy = rules.copy()\n",
        "\n",
        "# calc rhs length\n",
        "strategy['rhs_len'] = strategy.consequents.apply(lambda x: len(x))"
      ],
      "execution_count": null,
      "outputs": []
    },
    {
      "cell_type": "code",
      "metadata": {
        "id": "IwxRt5OMhdPG"
      },
      "source": [
        "# keep jus the rules with the sales conversion on the right\n",
        "ROWS = np.where((strategy.consequents=={'CMO'}) & (strategy.rhs_len == 1))\n",
        "\n",
        "strategy = strategy.iloc[ROWS[0], :]"
      ],
      "execution_count": null,
      "outputs": []
    },
    {
      "cell_type": "code",
      "metadata": {
        "id": "aHV2pXAPiAF7"
      },
      "source": [
        "# confirm this is what we intended\n",
        "strategy.shape\n",
        "\n",
        "strategy.head()"
      ],
      "execution_count": null,
      "outputs": []
    },
    {
      "cell_type": "code",
      "metadata": {
        "id": "6QXNzeZQiNgt"
      },
      "source": [
        "# explore -- long sales pipelines == many interactions on the LHS\n",
        "\n",
        "strategy.sort_values('lhs_len', ascending=False).head(10)"
      ],
      "execution_count": null,
      "outputs": []
    },
    {
      "cell_type": "code",
      "metadata": {
        "id": "MbCRm3fxiOwK"
      },
      "source": [
        "# some plots\n",
        "\n",
        "sns.scatterplot(data=strategy, x=\"support\", y=\"confidence\", hue=\"lift\")"
      ],
      "execution_count": null,
      "outputs": []
    },
    {
      "cell_type": "code",
      "metadata": {
        "id": "yXTLP5eCjgFS"
      },
      "source": [
        "# number of lhs items balanced against support\n",
        "sns.boxplot(data=strategy, x=\"lhs_len\", y=\"confidence\", color=\"grey\")\n",
        "\n",
        "## what does this suggest about a customers interactions WHEN, we know that they converted?"
      ],
      "execution_count": null,
      "outputs": []
    },
    {
      "cell_type": "code",
      "metadata": {
        "id": "FgZ86XK_jzc6"
      },
      "source": [
        "# fastest path\n",
        "rule1 = strategy.loc[strategy.lhs_len == 1, :]\n",
        "rule1.sort_values(\"lift\", ascending=False, inplace=True)\n",
        "\n",
        "rule1.head(10)"
      ],
      "execution_count": null,
      "outputs": []
    },
    {
      "cell_type": "code",
      "metadata": {
        "id": "RHiGu612kdNx"
      },
      "source": [
        "# above, you might recommend flagging those that only have TSA interaction\n",
        "# or to provide options, by say, filtering on sample size > 500?"
      ],
      "execution_count": null,
      "outputs": []
    }
  ]
}