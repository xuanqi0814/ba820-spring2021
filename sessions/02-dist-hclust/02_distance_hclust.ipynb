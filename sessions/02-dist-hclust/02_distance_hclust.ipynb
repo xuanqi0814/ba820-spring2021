{
  "nbformat": 4,
  "nbformat_minor": 0,
  "metadata": {
    "colab": {
      "name": "02-distance-hclust",
      "private_outputs": true,
      "provenance": [],
      "collapsed_sections": []
    },
    "kernelspec": {
      "name": "python3",
      "display_name": "Python 3"
    }
  },
  "cells": [
    {
      "cell_type": "code",
      "metadata": {
        "id": "KbG4_L0oEKq0"
      },
      "source": [
        "# installs\n",
        "# pip install scikit-learn\n"
      ],
      "execution_count": null,
      "outputs": []
    },
    {
      "cell_type": "code",
      "metadata": {
        "id": "qyIMoQXNFWFh"
      },
      "source": [
        "# imports - usual suspects\n",
        "import numpy as np\n",
        "import pandas as pd\n",
        "import seaborn as sns\n",
        "import matplotlib.pyplot as plt\n",
        "\n",
        "# for distance and h-clustering\n",
        "from scipy.cluster.hierarchy import linkage, dendrogram, fcluster\n",
        "from scipy.spatial.distance import pdist, squareform\n",
        "\n",
        "\n",
        "# sklearn does have some functionality too, but mostly a wrapper to scipy\n",
        "from sklearn.metrics import pairwise_distances \n",
        "from sklearn.preprocessing import StandardScaler"
      ],
      "execution_count": null,
      "outputs": []
    },
    {
      "cell_type": "code",
      "metadata": {
        "id": "2DfPE8yEFX_4"
      },
      "source": [
        "# let's start basic\n",
        "# x = np.array([1,2])\n",
        "# y = np.array([3,4])\n",
        "# z = np.array([2,4])\n",
        "# a = np.stack([x,y,z])\n",
        "# a_df = pd.DataFrame(a)  # dataframe version\n",
        "# a                       # nd array"
      ],
      "execution_count": null,
      "outputs": []
    },
    {
      "cell_type": "code",
      "metadata": {
        "id": "KFh2ZZwEHTxi"
      },
      "source": [
        "# lets get the euclidean distance\n",
        "\n",
        "\n",
        "# prints out as pairs \n",
        "# 0/1, 0/2, 1/2\n",
        "# https://stackoverflow.com/a/13079806/155406\n"
      ],
      "execution_count": null,
      "outputs": []
    },
    {
      "cell_type": "code",
      "metadata": {
        "id": "iZ3uFyVVHYuM"
      },
      "source": [
        "# what is it\n",
        "# technically its a condensed matrix of the upper triangle as 1d array\n"
      ],
      "execution_count": null,
      "outputs": []
    },
    {
      "cell_type": "code",
      "metadata": {
        "id": "Nin22tYlIurr"
      },
      "source": [
        "# but what we are mostly used to is the squareform\n"
      ],
      "execution_count": null,
      "outputs": []
    },
    {
      "cell_type": "code",
      "metadata": {
        "id": "W1suKn9TI16B"
      },
      "source": [
        "# NOTE: there are tools in sklearn, but some methods allow us to pass a compressed matrix\n",
        "#       which gives us an analysts control over the input space\n"
      ],
      "execution_count": null,
      "outputs": []
    },
    {
      "cell_type": "code",
      "metadata": {
        "id": "KlM2G-ayKLn7"
      },
      "source": [
        "# QUICK EXERCISE:\n",
        "#                 calculate the cosine distance matrix\n",
        "#                 Tricky: calculate the Manhattan distance \n",
        "#                       HINT: documentation is your friend\n",
        "\n"
      ],
      "execution_count": null,
      "outputs": []
    },
    {
      "cell_type": "code",
      "metadata": {
        "id": "P9Qe5B5GK0l0"
      },
      "source": [
        "## there are other distance calcs, but I really dont see these come up that often in practical applications\n",
        "## nothing stopping you from looping parameters to assess what works the best"
      ],
      "execution_count": null,
      "outputs": []
    },
    {
      "cell_type": "code",
      "metadata": {
        "id": "QOfmaiCmLEh0"
      },
      "source": [
        "# we can also use sklearn to calc distances\n"
      ],
      "execution_count": null,
      "outputs": []
    },
    {
      "cell_type": "code",
      "metadata": {
        "id": "GVMJrjvuLqvt"
      },
      "source": [
        "# QUICK NOTE:\n",
        "#             some implementations may be faster in sklearn, note the docs\n",
        "\n"
      ],
      "execution_count": null,
      "outputs": []
    },
    {
      "cell_type": "code",
      "metadata": {
        "id": "0ozH5tEgL-h_"
      },
      "source": [
        "# let's start to code up a simple example"
      ],
      "execution_count": null,
      "outputs": []
    },
    {
      "cell_type": "code",
      "metadata": {
        "id": "NKG0cgbvNut_"
      },
      "source": [
        "# auth into GCP Big Query\n",
        "\n",
        "# COLAB Only\n",
        "# from google.colab import auth\n",
        "# auth.authenticate_user()\n",
        "# print('Authenticated')\n",
        "\n",
        "# for non-Colab\n",
        "# see resources, as long as token with env var setup properly, below should work"
      ],
      "execution_count": null,
      "outputs": []
    },
    {
      "cell_type": "code",
      "metadata": {
        "id": "g2H1g4eHN1jB"
      },
      "source": [
        "# get the data\n",
        "SQL = \"SELECT * from `questrom.datasets.mtcars`\"\n",
        "YOUR_BILLING_PROJECT = \"questrom\"\n",
        "\n",
        "cars = pd.read_gbq(SQL, YOUR_BILLING_PROJECT)"
      ],
      "execution_count": null,
      "outputs": []
    },
    {
      "cell_type": "code",
      "metadata": {
        "id": "MIG__id_OC74"
      },
      "source": [
        "# what do we have?\n"
      ],
      "execution_count": null,
      "outputs": []
    },
    {
      "cell_type": "code",
      "metadata": {
        "id": "5zkzEJB5OMLv"
      },
      "source": [
        "# the first few rows\n"
      ],
      "execution_count": null,
      "outputs": []
    },
    {
      "cell_type": "code",
      "metadata": {
        "id": "hsQJAIb1O2B3"
      },
      "source": [
        "# EXERCISE:\n",
        "#         1) use the model column as the row index \n",
        "#         2) with the model column as index, we can now remove it\n",
        "#         3) explore the data\n",
        "#   Keep in mind that our goal is to use distance for clustering!\n",
        "#   Does anything stand out?"
      ],
      "execution_count": null,
      "outputs": []
    },
    {
      "cell_type": "code",
      "metadata": {
        "id": "aEZzQ08TONVJ"
      },
      "source": [
        "# lets drop the model column and use it as the index\n"
      ],
      "execution_count": null,
      "outputs": []
    },
    {
      "cell_type": "code",
      "metadata": {
        "id": "wy7KFzjVOXAM"
      },
      "source": [
        "# confirm we have what we need\n"
      ],
      "execution_count": null,
      "outputs": []
    },
    {
      "cell_type": "code",
      "metadata": {
        "id": "nWq-_FmzOYOG"
      },
      "source": [
        "# ok, let's summarise the info\n"
      ],
      "execution_count": null,
      "outputs": []
    },
    {
      "cell_type": "code",
      "metadata": {
        "id": "1qOGC6zQOdGM"
      },
      "source": [
        "# no missing values is great, finally the summaries\n"
      ],
      "execution_count": null,
      "outputs": []
    },
    {
      "cell_type": "code",
      "metadata": {
        "id": "W8ax9hK3Wah8"
      },
      "source": [
        "# optional viz, but takes some time\n",
        "# sns.pairplot(cars)\n"
      ],
      "execution_count": null,
      "outputs": []
    },
    {
      "cell_type": "code",
      "metadata": {
        "id": "w0oY4ZlvOhA3"
      },
      "source": [
        "# keep just the continous variables\n",
        "# cars2 = pd.concat((cars.loc[:, \"mpg\"], cars.loc[:, \"disp\":\"qsec\"]), axis=1)"
      ],
      "execution_count": null,
      "outputs": []
    },
    {
      "cell_type": "code",
      "metadata": {
        "id": "3oIWL_15OutD"
      },
      "source": [
        "# confirm we have what we need\n"
      ],
      "execution_count": null,
      "outputs": []
    },
    {
      "cell_type": "code",
      "metadata": {
        "id": "U_2t12eaOuzt"
      },
      "source": [
        "# eventually we want to run the distance matrix through linkage\n",
        "# https://docs.scipy.org/doc/scipy/reference/generated/scipy.cluster.hierarchy.linkage.html\n"
      ],
      "execution_count": null,
      "outputs": []
    },
    {
      "cell_type": "code",
      "metadata": {
        "id": "y_1VouZvOu13"
      },
      "source": [
        "# use scipy for distance matrix\n",
        "\n",
        "\n",
        "# cdist = pdist(cars2.values)"
      ],
      "execution_count": null,
      "outputs": []
    },
    {
      "cell_type": "code",
      "metadata": {
        "id": "Zyck4iV4U2R0"
      },
      "source": [
        "## Why?  We have more control, as we could always build our distance matrix to our needs\n",
        "##       Above is just the mechanics of getting this done"
      ],
      "execution_count": null,
      "outputs": []
    },
    {
      "cell_type": "code",
      "metadata": {
        "id": "N1o40OiBVF8q"
      },
      "source": [
        "# visualize the matrix with seaborn\n",
        "\n",
        "# sns.heatmap(squareform(cdist), cmap=\"Reds\")"
      ],
      "execution_count": null,
      "outputs": []
    },
    {
      "cell_type": "code",
      "metadata": {
        "id": "_iH_wz3_VIqO"
      },
      "source": [
        "# Thought exercise:  Why might this help us think about the # of clusters"
      ],
      "execution_count": null,
      "outputs": []
    },
    {
      "cell_type": "code",
      "metadata": {
        "id": "XcrY6OjfVjnU"
      },
      "source": [
        "# lets perform our first hclust!\n",
        "\n",
        "# hc1 = linkage(cdist)\n",
        "\n",
        "# now visualize the dendrogram\n",
        "\n",
        "# dendrogram(hc1, labels=cars.index)\n",
        "# plt.show()"
      ],
      "execution_count": null,
      "outputs": []
    },
    {
      "cell_type": "code",
      "metadata": {
        "id": "wg-b7kdOY0BU"
      },
      "source": [
        "# the labels for the cluster - cleaner\n",
        "\n",
        "# dendrogram(hc1,\n",
        "#            labels = cars.index,\n",
        "#            leaf_rotation=90,\n",
        "#            leaf_font_size=10)\n",
        "# plt.show()\n"
      ],
      "execution_count": null,
      "outputs": []
    },
    {
      "cell_type": "code",
      "metadata": {
        "id": "SMr89M_5Zm9H"
      },
      "source": [
        "# and the orientation/size\n",
        "\n",
        "# plt.figure(figsize=(5,6))\n",
        "# dendrogram(hc1,\n",
        "#            labels = cars.index,\n",
        "#            orientation = \"left\")\n",
        "# plt.show()"
      ],
      "execution_count": null,
      "outputs": []
    },
    {
      "cell_type": "code",
      "metadata": {
        "id": "iZjESSafZszU"
      },
      "source": [
        "# once we have seen the plots, we can start to think about cutting this up\n",
        "# to define clusters - we use fcluster\n",
        "# https://docs.scipy.org/doc/scipy/reference/generated/scipy.cluster.hierarchy.fcluster.html"
      ],
      "execution_count": null,
      "outputs": []
    },
    {
      "cell_type": "code",
      "metadata": {
        "id": "gzPzheAgbIIm"
      },
      "source": [
        "# we can slice up our clusters a few ways\n",
        "# first, how many clusters (max)\n",
        "\n",
        "# fcluster(hc1, 2, criterion=\"maxclust\")"
      ],
      "execution_count": null,
      "outputs": []
    },
    {
      "cell_type": "code",
      "metadata": {
        "id": "E7dnq7ZEcPKP"
      },
      "source": [
        "# we can also define by the distance\n",
        "\n"
      ],
      "execution_count": null,
      "outputs": []
    },
    {
      "cell_type": "code",
      "metadata": {
        "id": "UH3SUcWvcqrv"
      },
      "source": [
        "# want to visualize how you defined the cluster?\n",
        "\n",
        "# DIST = 80\n",
        "# plt.figure(figsize=(5,6))\n",
        "# dendrogram(hc1, \n",
        "#            labels = cars.index,\n",
        "#            orientation = \"left\", \n",
        "#            color_threshold = DIST)\n",
        "# plt.axvline(x=DIST, c='grey', lw=1, linestyle='dashed')\n",
        "# plt.show()"
      ],
      "execution_count": null,
      "outputs": []
    },
    {
      "cell_type": "code",
      "metadata": {
        "id": "O8a56p87c5Mt"
      },
      "source": [
        "# YOUR TURN:\n",
        "#           Use cosine distance\n",
        "#           generate the linkage array\n",
        "#           plot the dendrogram\n",
        "#           assign the cluster labels back onto the ORIGINAL dataframe\n",
        "\n",
        "\n",
        "\n"
      ],
      "execution_count": null,
      "outputs": []
    },
    {
      "cell_type": "code",
      "metadata": {
        "id": "44W280iXe6Ba"
      },
      "source": [
        ""
      ],
      "execution_count": null,
      "outputs": []
    },
    {
      "cell_type": "code",
      "metadata": {
        "id": "Tn6r7JhYfPTO"
      },
      "source": [
        "# now that we have labels assigned, we can profile\n",
        "\n"
      ],
      "execution_count": null,
      "outputs": []
    },
    {
      "cell_type": "code",
      "metadata": {
        "id": "OXvpUiu2fsJg"
      },
      "source": [
        "# data dictionary for profiling above\n",
        "# https://stat.ethz.ch/R-manual/R-devel/library/datasets/html/mtcars.html"
      ],
      "execution_count": null,
      "outputs": []
    },
    {
      "cell_type": "code",
      "metadata": {
        "id": "DYmqk7kFgGe_"
      },
      "source": [
        "# DISCUSSION:\n",
        "#            This is a simple dataset, but why is profiling important for us as analyts?\n",
        "#            Applications of this approach?"
      ],
      "execution_count": null,
      "outputs": []
    },
    {
      "cell_type": "code",
      "metadata": {
        "id": "8HLF1T7lgN7-"
      },
      "source": [
        "# ok, 3 more things to consider\n",
        "\n",
        "# scaling the data to give all features equal importance\n",
        "# viz different approaches instead of 1x1\n",
        "# more \"advanced\" ways to think about distance to help us inform cluster selection\n"
      ],
      "execution_count": null,
      "outputs": []
    },
    {
      "cell_type": "code",
      "metadata": {
        "id": "cKTLVpfbgnjp"
      },
      "source": [
        "# lets go back to our cars2 dataset (the one with just \"continous\")\n"
      ],
      "execution_count": null,
      "outputs": []
    },
    {
      "cell_type": "code",
      "metadata": {
        "id": "08GCJZCplc4l"
      },
      "source": [
        "# scaling variables allows each to have equal importance\n",
        "# since they are now on the same unit scale\n",
        "\n",
        "# sc = StandardScaler()\n",
        "# cars_scaled = sc.fit_transform(cars2)"
      ],
      "execution_count": null,
      "outputs": []
    },
    {
      "cell_type": "code",
      "metadata": {
        "id": "mcpGUqxbmHxo"
      },
      "source": [
        "# what do we have\n"
      ],
      "execution_count": null,
      "outputs": []
    },
    {
      "cell_type": "code",
      "metadata": {
        "id": "UAfL6ZxWmJ-n"
      },
      "source": [
        "# make it a dataframe\n",
        "\n",
        "# cars_scaled = pd.DataFrame(cars_scaled, columns=cars2.columns, index=cars2.index)\n",
        "# cars_scaled.head(3)"
      ],
      "execution_count": null,
      "outputs": []
    },
    {
      "cell_type": "code",
      "metadata": {
        "id": "_1T9gYSbmWvz"
      },
      "source": [
        "# confirm scaled\n",
        "\n"
      ],
      "execution_count": null,
      "outputs": []
    },
    {
      "cell_type": "code",
      "metadata": {
        "id": "ApcA8hNqmcx_"
      },
      "source": [
        "# METHODS = ['single', 'complete', 'average', 'ward']\n",
        "# plt.figure(figsize=(15,5))\n",
        "\n",
        "\n",
        "# # loop and build our plot\n",
        "# for i, m in enumerate(METHODS):\n",
        "#   plt.subplot(1, 4, i+1)\n",
        "#   plt.title(m)\n",
        "#   dendrogram(linkage(cars_scaled.values, method=m),\n",
        "#              labels = cars_scaled.index,\n",
        "#              leaf_rotation=90,\n",
        "#              leaf_font_size=10)\n",
        "  \n",
        "# plt.show()\n"
      ],
      "execution_count": null,
      "outputs": []
    },
    {
      "cell_type": "code",
      "metadata": {
        "id": "fVaf7aktngvR"
      },
      "source": [
        "# I am going to choose ward, choose whatever you like below\n",
        "\n",
        "# wlink = linkage(cars_scaled.values, method=\"ward\")\n",
        "# dendrogram(wlink,\n",
        "#           labels = cars_scaled.index,\n",
        "#           leaf_rotation=90,\n",
        "#           leaf_font_size=10)\n",
        "\n",
        "# plt.show()"
      ],
      "execution_count": null,
      "outputs": []
    },
    {
      "cell_type": "code",
      "metadata": {
        "id": "YnY0-hIsp_HP"
      },
      "source": [
        "# lets look at the distance added at each step\n",
        "# docs = 4th paragraph for output\n"
      ],
      "execution_count": null,
      "outputs": []
    },
    {
      "cell_type": "code",
      "metadata": {
        "id": "NDLHcOBRsc_r"
      },
      "source": [
        "# length of the entry\n"
      ],
      "execution_count": null,
      "outputs": []
    },
    {
      "cell_type": "code",
      "metadata": {
        "id": "bYism6SgqktB"
      },
      "source": [
        "# look at the actual data\n"
      ],
      "execution_count": null,
      "outputs": []
    },
    {
      "cell_type": "code",
      "metadata": {
        "id": "jdajZ_K2qlYG"
      },
      "source": [
        "# lets look at the growth in distance added\n",
        "\n",
        "# added_dist = wlink[:, 2]\n",
        "# added_dist"
      ],
      "execution_count": null,
      "outputs": []
    },
    {
      "cell_type": "code",
      "metadata": {
        "id": "EarHenserUSb"
      },
      "source": [
        "# calculate the diff at each join\n",
        "\n",
        "# penalty = np.diff(added_dist)\n",
        "# penalty[-5:]"
      ],
      "execution_count": null,
      "outputs": []
    },
    {
      "cell_type": "code",
      "metadata": {
        "id": "_2yJLnAFrbf8"
      },
      "source": [
        "# elbow method - what clustering step starts to show signs of explosion in distance\n",
        "# remember, we lost one via the diff\n",
        "\n",
        "# sns.lineplot(range(1, len(penalty)+1), penalty)"
      ],
      "execution_count": null,
      "outputs": []
    },
    {
      "cell_type": "code",
      "metadata": {
        "id": "MNmrk90grcLw"
      },
      "source": [
        "# we can re-inspect\n"
      ],
      "execution_count": null,
      "outputs": []
    },
    {
      "cell_type": "code",
      "metadata": {
        "id": "tC_Wm_SWtb7J"
      },
      "source": [
        "# set the clusters based on max dist\n",
        "\n",
        "# labs2 = fcluster(wlink, 5.5, \"distance\")"
      ],
      "execution_count": null,
      "outputs": []
    },
    {
      "cell_type": "code",
      "metadata": {
        "id": "mFwzcJvett2J"
      },
      "source": [
        "# plot it\n",
        "\n",
        "# dendrogram(wlink,\n",
        "#           labels = cars_scaled.index,\n",
        "#           leaf_rotation=90,\n",
        "#           leaf_font_size=10)\n",
        "# plt.axhline(y=5.5)\n",
        "# plt.show()"
      ],
      "execution_count": null,
      "outputs": []
    },
    {
      "cell_type": "code",
      "metadata": {
        "id": "geOUlXe1t701"
      },
      "source": [
        "# ensure intuition aligns with clusters\n"
      ],
      "execution_count": null,
      "outputs": []
    },
    {
      "cell_type": "code",
      "metadata": {
        "id": "uVI_fH89ueV9"
      },
      "source": [
        ""
      ],
      "execution_count": null,
      "outputs": []
    }
  ]
}